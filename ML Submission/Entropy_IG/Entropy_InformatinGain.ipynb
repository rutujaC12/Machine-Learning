{
  "nbformat": 4,
  "nbformat_minor": 0,
  "metadata": {
    "colab": {
      "provenance": []
    },
    "kernelspec": {
      "name": "python3",
      "display_name": "Python 3"
    },
    "language_info": {
      "name": "python"
    }
  },
  "cells": [
    {
      "cell_type": "code",
      "execution_count": 1,
      "metadata": {
        "id": "2XPrRRcISYxW"
      },
      "outputs": [],
      "source": [
        "import pandas as pd\n",
        "import numpy as np"
      ]
    },
    {
      "cell_type": "code",
      "source": [
        "data = pd.read_csv('heart.csv')"
      ],
      "metadata": {
        "id": "PDCWigwlSrsZ"
      },
      "execution_count": 2,
      "outputs": []
    },
    {
      "cell_type": "code",
      "source": [
        "def calculate_entropy(series):\n",
        "    counts = series.value_counts()\n",
        "    probs = counts / len(series)\n",
        "    entropy = -np.sum(probs * np.log2(probs + 1e-10))\n",
        "    return entropy"
      ],
      "metadata": {
        "id": "-Ut0n91LSeTk"
      },
      "execution_count": 11,
      "outputs": []
    },
    {
      "cell_type": "code",
      "source": [
        "def calculate_information_gain(data, target, attribute):\n",
        "    target_entropy = calculate_entropy(data[target])\n",
        "\n",
        "    attribute_values = data[attribute].unique()\n",
        "    weighted_attribute_entropy = 0\n",
        "\n",
        "    for value in attribute_values:\n",
        "        subset = data[data[attribute] == value]\n",
        "        subset_weight = len(subset) / len(data)\n",
        "        weighted_attribute_entropy += subset_weight * calculate_entropy(subset[target])\n",
        "\n",
        "    information_gain = target_entropy - weighted_attribute_entropy\n",
        "    return information_gain"
      ],
      "metadata": {
        "id": "MenNsrGESeP_"
      },
      "execution_count": 12,
      "outputs": []
    },
    {
      "cell_type": "code",
      "source": [
        "target_entropy = calculate_entropy(data['HeartDisease'])\n",
        "print(f\"Entropy of 'HeartDisease': {target_entropy:.4f}\")"
      ],
      "metadata": {
        "colab": {
          "base_uri": "https://localhost:8080/"
        },
        "id": "r8PQLGZ8SeNd",
        "outputId": "b6dbcaa2-7511-4fb2-ea44-43e73bf1b0bb"
      },
      "execution_count": 13,
      "outputs": [
        {
          "output_type": "stream",
          "name": "stdout",
          "text": [
            "Entropy of 'HeartDisease': 0.8454\n"
          ]
        }
      ]
    },
    {
      "cell_type": "code",
      "source": [
        "attributes = ['Age', 'Sex', 'RestingBP', 'Cholesterol', 'RestingECG', 'ExerciseAngina']\n",
        "for attribute in attributes:\n",
        "    info_gain = calculate_information_gain(data, 'HeartDisease', attribute)\n",
        "    print(f\"Information Gain for '{attribute}': {info_gain:.4f}\")"
      ],
      "metadata": {
        "colab": {
          "base_uri": "https://localhost:8080/"
        },
        "id": "gohD-0cjSeKx",
        "outputId": "4ed03586-fbcb-4a49-9453-4130554e5e99"
      },
      "execution_count": 14,
      "outputs": [
        {
          "output_type": "stream",
          "name": "stdout",
          "text": [
            "Information Gain for 'Age': 0.4131\n",
            "Information Gain for 'Sex': 0.0495\n",
            "Information Gain for 'RestingBP': 0.6635\n",
            "Information Gain for 'Cholesterol': 0.8454\n",
            "Information Gain for 'RestingECG': 0.0442\n",
            "Information Gain for 'ExerciseAngina': 0.4336\n"
          ]
        }
      ]
    },
    {
      "cell_type": "code",
      "source": [
        "attributes = ['Age', 'Sex', 'RestingBP', 'Cholesterol', 'RestingECG', 'ExerciseAngina']\n",
        "info_gains = [calculate_information_gain(data, 'HeartDisease', attr) for attr in attributes]"
      ],
      "metadata": {
        "id": "80tIIR9hXxnn"
      },
      "execution_count": 16,
      "outputs": []
    },
    {
      "cell_type": "code",
      "source": [
        "root_attribute = attributes[np.argmax(info_gains)]\n",
        "root_ig = np.max(info_gains)"
      ],
      "metadata": {
        "id": "m0h6kPNySeBd"
      },
      "execution_count": 17,
      "outputs": []
    },
    {
      "cell_type": "code",
      "source": [
        "print(f\"Root Node: '{root_attribute}' with Information Gain: {root_ig:.4f}\")"
      ],
      "metadata": {
        "colab": {
          "base_uri": "https://localhost:8080/"
        },
        "id": "rk4WZgHVSd-5",
        "outputId": "668bbae3-f567-40a8-9b92-65fa8a93c9a1"
      },
      "execution_count": 18,
      "outputs": [
        {
          "output_type": "stream",
          "name": "stdout",
          "text": [
            "Root Node: 'Cholesterol' with Information Gain: 0.8454\n"
          ]
        }
      ]
    }
  ]
}