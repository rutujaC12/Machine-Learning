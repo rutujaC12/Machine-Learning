{
  "nbformat": 4,
  "nbformat_minor": 0,
  "metadata": {
    "colab": {
      "provenance": []
    },
    "kernelspec": {
      "name": "python3",
      "display_name": "Python 3"
    },
    "language_info": {
      "name": "python"
    }
  },
  "cells": [
    {
      "cell_type": "code",
      "execution_count": 1,
      "metadata": {
        "id": "Kpn5wWtTdULU"
      },
      "outputs": [],
      "source": [
        "import pandas as pd\n",
        "from sklearn.cluster import KMeans\n",
        "import matplotlib.pyplot as plt\n",
        "from sklearn.preprocessing import StandardScaler"
      ]
    },
    {
      "cell_type": "code",
      "source": [
        "data=pd.read_csv('top_english_movies.csv')"
      ],
      "metadata": {
        "id": "Z32tvL87ePnw"
      },
      "execution_count": 2,
      "outputs": []
    },
    {
      "cell_type": "code",
      "source": [
        "df = pd.DataFrame(data)"
      ],
      "metadata": {
        "id": "mF4imfa_ePkV"
      },
      "execution_count": 3,
      "outputs": []
    },
    {
      "cell_type": "markdown",
      "source": [
        "Extract numerical features for clustering"
      ],
      "metadata": {
        "id": "dz-A7Ssdeual"
      }
    },
    {
      "cell_type": "code",
      "source": [
        "numerical_features = ['movie_rating']\n",
        "multipliers = {'K': 10**3, 'M': 10**6, 'B': 10**9}\n",
        "\n",
        "def convert_votes(votes):\n",
        "    if pd.isnull(votes):\n",
        "        return 0\n",
        "    for suffix, multiplier in multipliers.items():\n",
        "        if suffix in votes:\n",
        "            return float(votes.replace(suffix, '')) * multiplier\n",
        "    return float(votes)\n",
        "\n",
        "df['user_votes'] = df['user_votes'].apply(convert_votes)"
      ],
      "metadata": {
        "id": "N1XlckQEePha"
      },
      "execution_count": 4,
      "outputs": []
    },
    {
      "cell_type": "markdown",
      "source": [
        "Standardize the features\n"
      ],
      "metadata": {
        "id": "05QMGv4Ge1YK"
      }
    },
    {
      "cell_type": "code",
      "source": [
        "scaler = StandardScaler()\n",
        "df[numerical_features + ['user_votes']] = scaler.fit_transform(df[numerical_features + ['user_votes']])"
      ],
      "metadata": {
        "id": "5mPG0ZRNePek"
      },
      "execution_count": 5,
      "outputs": []
    },
    {
      "cell_type": "markdown",
      "source": [
        "Combine the features"
      ],
      "metadata": {
        "id": "j4dCtJtge6zb"
      }
    },
    {
      "cell_type": "code",
      "source": [
        "X = df[numerical_features + ['user_votes']].values"
      ],
      "metadata": {
        "id": "P3kWyi33ePby"
      },
      "execution_count": 6,
      "outputs": []
    },
    {
      "cell_type": "markdown",
      "source": [
        "Get user input for the value of k"
      ],
      "metadata": {
        "id": "Z-8Z-lB7e8JI"
      }
    },
    {
      "cell_type": "code",
      "source": [
        "k_value = int(input(\"Enter the value of k for K-Means clustering: \"))"
      ],
      "metadata": {
        "colab": {
          "base_uri": "https://localhost:8080/"
        },
        "id": "LO_eXrosePYo",
        "outputId": "50e4d8bd-6bdd-481c-e936-6ba8bf5ae66e"
      },
      "execution_count": 7,
      "outputs": [
        {
          "name": "stdout",
          "output_type": "stream",
          "text": [
            "Enter the value of k for K-Means clustering: 3\n"
          ]
        }
      ]
    },
    {
      "cell_type": "markdown",
      "source": [
        "Apply K-Means clustering"
      ],
      "metadata": {
        "id": "U4tzsET9fCP5"
      }
    },
    {
      "cell_type": "code",
      "source": [
        "kmeans = KMeans(n_clusters=k_value, init='k-means++', max_iter=300, n_init=10, random_state=0)\n",
        "df['cluster'] = kmeans.fit_predict(X)"
      ],
      "metadata": {
        "id": "XMG3QF3DePV8"
      },
      "execution_count": 8,
      "outputs": []
    },
    {
      "cell_type": "code",
      "source": [
        "print(df[['movie_name', 'cluster']])"
      ],
      "metadata": {
        "colab": {
          "base_uri": "https://localhost:8080/"
        },
        "id": "WtDNFQzIePTQ",
        "outputId": "8b6cf5f3-613a-45b4-b3d4-2aec34b1ac24"
      },
      "execution_count": 9,
      "outputs": [
        {
          "output_type": "stream",
          "name": "stdout",
          "text": [
            "                                           movie_name  cluster\n",
            "0                            The Shawshank Redemption        0\n",
            "1                                       The Godfather        0\n",
            "2                                     The Dark Knight        0\n",
            "3                               The Godfather Part II        2\n",
            "4                                        12 Angry Men        2\n",
            "5                                    Schindler's List        2\n",
            "6       The Lord of the Rings: The Return of the King        1\n",
            "7                                        Pulp Fiction        1\n",
            "8   The Lord of the Rings: The Fellowship of the Ring        1\n",
            "9                                        Forrest Gump        1\n",
            "10                                         Fight Club        1\n",
            "11              The Lord of the Rings: The Two Towers        1\n",
            "12                                          Inception        1\n",
            "13     Star Wars: Episode V - The Empire Strikes Back        2\n",
            "14                                         The Matrix        1\n",
            "15                                         Goodfellas        2\n",
            "16                    One Flew Over the Cuckoo's Nest        2\n"
          ]
        }
      ]
    },
    {
      "cell_type": "markdown",
      "source": [
        "Plot the clusters"
      ],
      "metadata": {
        "id": "1mVre9zEfH8S"
      }
    },
    {
      "cell_type": "code",
      "source": [
        "plt.scatter(df['movie_rating'], df['user_votes'], c=df['cluster'], cmap='viridis')\n",
        "plt.scatter(kmeans.cluster_centers_[:, 0], kmeans.cluster_centers_[:, 1], s=300, c='red', marker='X', label='Cluster Centers')\n",
        "plt.title('K-Means Clustering of Movies')\n",
        "plt.xlabel('Movie Rating (Standardized)')\n",
        "plt.ylabel('User Votes (Standardized)')\n",
        "plt.legend()\n",
        "plt.show()"
      ],
      "metadata": {
        "colab": {
          "base_uri": "https://localhost:8080/",
          "height": 472
        },
        "id": "kpwDdkDbePQR",
        "outputId": "1843a103-ab8c-40a6-cd6b-5b17f523b3b6"
      },
      "execution_count": 10,
      "outputs": [
        {
          "output_type": "display_data",
          "data": {
            "text/plain": [
              "<Figure size 640x480 with 1 Axes>"
            ],
            "image/png": "[encoded data removed]"
          },
          "metadata": {}
        }
      ]
    },
    {
      "cell_type": "code",
      "source": [],
      "metadata": {
        "id": "ESQ12H4HePNb"
      },
      "execution_count": null,
      "outputs": []
    }
  ]
}