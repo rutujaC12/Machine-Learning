{
  "nbformat": 4,
  "nbformat_minor": 0,
  "metadata": {
    "colab": {
      "provenance": []
    },
    "kernelspec": {
      "name": "python3",
      "display_name": "Python 3"
    },
    "language_info": {
      "name": "python"
    }
  },
  "cells": [
    {
      "cell_type": "markdown",
      "source": [
        "Importing the libraries"
      ],
      "metadata": {
        "id": "l5DLxKoCVMwb"
      }
    },
    {
      "cell_type": "code",
      "execution_count": 1,
      "metadata": {
        "id": "P4GGlrcRTMV6"
      },
      "outputs": [],
      "source": [
        "import numpy as np\n",
        "import matplotlib.pyplot as plt\n",
        "import pandas as pd"
      ]
    },
    {
      "cell_type": "markdown",
      "source": [
        " Importing the dataset"
      ],
      "metadata": {
        "id": "v21o26EWVfp-"
      }
    },
    {
      "cell_type": "code",
      "source": [
        "dataset = pd.read_csv('dataset1.csv')\n",
        "X = dataset.iloc[:, :-1].values\n",
        "y = dataset.iloc[:, -1].values"
      ],
      "metadata": {
        "id": "X-K9TCenVMHB"
      },
      "execution_count": 2,
      "outputs": []
    },
    {
      "cell_type": "code",
      "source": [
        "print(X)"
      ],
      "metadata": {
        "colab": {
          "base_uri": "https://localhost:8080/"
        },
        "id": "B6GtB0bbVMTQ",
        "outputId": "2ddaa23d-23b8-4229-86ea-19f91bdbb152"
      },
      "execution_count": 3,
      "outputs": [
        {
          "output_type": "stream",
          "name": "stdout",
          "text": [
            "[['Alice' 'Female' 28.0 50000.0]\n",
            " ['Bob' 'Male' nan 60000.0]\n",
            " ['Charlie' 'Male' 22.0 nan]\n",
            " ['David' 'Male' 45.0 75000.0]\n",
            " ['Eve' 'Female' nan 28000.0]\n",
            " ['Frank' 'Male' 35.0 70000.0]\n",
            " ['Grace' 'Female' 24.0 48000.0]\n",
            " ['Hannah' 'Female' 31.0 nan]]\n"
          ]
        }
      ]
    },
    {
      "cell_type": "code",
      "source": [
        "print(y)"
      ],
      "metadata": {
        "colab": {
          "base_uri": "https://localhost:8080/"
        },
        "id": "GExqJXuNVush",
        "outputId": "c5ad793b-d019-449f-cc95-c6364dec1ecb"
      },
      "execution_count": 4,
      "outputs": [
        {
          "output_type": "stream",
          "name": "stdout",
          "text": [
            "['Yes' 'Yes' 'No' 'Yes' 'No' 'Yes' 'Yes' 'No']\n"
          ]
        }
      ]
    },
    {
      "cell_type": "markdown",
      "source": [
        "Taking care of missing data"
      ],
      "metadata": {
        "id": "3-vs5h7vV1dF"
      }
    },
    {
      "cell_type": "code",
      "source": [
        "from sklearn.impute import SimpleImputer\n",
        "imputer = SimpleImputer(missing_values=np.nan, strategy='mean')\n",
        "imputer.fit(X[:, 3:])\n",
        "X[:, 3:] = imputer.transform(X[:, 3:])"
      ],
      "metadata": {
        "id": "XfZ7w-2uVyij"
      },
      "execution_count": 5,
      "outputs": []
    },
    {
      "cell_type": "code",
      "source": [
        "print(X)"
      ],
      "metadata": {
        "colab": {
          "base_uri": "https://localhost:8080/"
        },
        "id": "_bgl3odgVyXL",
        "outputId": "13c33cfd-82ca-42e6-ce46-11667bf9563e"
      },
      "execution_count": 6,
      "outputs": [
        {
          "output_type": "stream",
          "name": "stdout",
          "text": [
            "[['Alice' 'Female' 28.0 50000.0]\n",
            " ['Bob' 'Male' nan 60000.0]\n",
            " ['Charlie' 'Male' 22.0 55166.666666666664]\n",
            " ['David' 'Male' 45.0 75000.0]\n",
            " ['Eve' 'Female' nan 28000.0]\n",
            " ['Frank' 'Male' 35.0 70000.0]\n",
            " ['Grace' 'Female' 24.0 48000.0]\n",
            " ['Hannah' 'Female' 31.0 55166.666666666664]]\n"
          ]
        }
      ]
    },
    {
      "cell_type": "markdown",
      "source": [
        "Encoding the Independent Variable"
      ],
      "metadata": {
        "id": "BeNvNZ_aWIgk"
      }
    },
    {
      "cell_type": "code",
      "source": [
        "from sklearn.compose import ColumnTransformer\n",
        "from sklearn.preprocessing import OneHotEncoder\n",
        "categorical_indices = [0, 1]\n",
        "ct = ColumnTransformer(transformers=[('encoder', OneHotEncoder(), categorical_indices)], remainder='passthrough')\n",
        "X = np.array(ct.fit_transform(X))"
      ],
      "metadata": {
        "id": "gLKGfkqlVyKX"
      },
      "execution_count": 7,
      "outputs": []
    },
    {
      "cell_type": "code",
      "source": [
        "print(X)"
      ],
      "metadata": {
        "colab": {
          "base_uri": "https://localhost:8080/"
        },
        "id": "-2NisewZeOAW",
        "outputId": "ff80ecb6-0036-44c5-f642-2628739205e1"
      },
      "execution_count": 8,
      "outputs": [
        {
          "output_type": "stream",
          "name": "stdout",
          "text": [
            "[[1.0 0.0 0.0 0.0 0.0 0.0 0.0 0.0 1.0 0.0 28.0 50000.0]\n",
            " [0.0 1.0 0.0 0.0 0.0 0.0 0.0 0.0 0.0 1.0 nan 60000.0]\n",
            " [0.0 0.0 1.0 0.0 0.0 0.0 0.0 0.0 0.0 1.0 22.0 55166.666666666664]\n",
            " [0.0 0.0 0.0 1.0 0.0 0.0 0.0 0.0 0.0 1.0 45.0 75000.0]\n",
            " [0.0 0.0 0.0 0.0 1.0 0.0 0.0 0.0 1.0 0.0 nan 28000.0]\n",
            " [0.0 0.0 0.0 0.0 0.0 1.0 0.0 0.0 0.0 1.0 35.0 70000.0]\n",
            " [0.0 0.0 0.0 0.0 0.0 0.0 1.0 0.0 1.0 0.0 24.0 48000.0]\n",
            " [0.0 0.0 0.0 0.0 0.0 0.0 0.0 1.0 1.0 0.0 31.0 55166.666666666664]]\n"
          ]
        }
      ]
    },
    {
      "cell_type": "markdown",
      "source": [
        "Encoding the Dependent Variable"
      ],
      "metadata": {
        "id": "D8TEPcMGWcx_"
      }
    },
    {
      "cell_type": "code",
      "source": [
        "from sklearn.preprocessing import LabelEncoder\n",
        "le = LabelEncoder()\n",
        "y = le.fit_transform(y)"
      ],
      "metadata": {
        "id": "yPrrbCuqWZT4"
      },
      "execution_count": 9,
      "outputs": []
    },
    {
      "cell_type": "code",
      "source": [
        "print(y)"
      ],
      "metadata": {
        "colab": {
          "base_uri": "https://localhost:8080/"
        },
        "id": "VThzYFK5WR_l",
        "outputId": "f3cb0e3b-3511-4cc5-816e-c247ada1b352"
      },
      "execution_count": 10,
      "outputs": [
        {
          "output_type": "stream",
          "name": "stdout",
          "text": [
            "[1 1 0 1 0 1 1 0]\n"
          ]
        }
      ]
    },
    {
      "cell_type": "markdown",
      "source": [
        "Splitting the dataset into the Training set and Test set\n",
        "\n",
        "\n"
      ],
      "metadata": {
        "id": "tkL6se0BWmg3"
      }
    },
    {
      "cell_type": "code",
      "source": [
        "from sklearn.model_selection import train_test_split\n",
        "X_train, X_test, y_train, y_test = train_test_split(X, y, test_size=0.2, random_state=1)"
      ],
      "metadata": {
        "id": "6-0XXF2TWi2q"
      },
      "execution_count": 11,
      "outputs": []
    },
    {
      "cell_type": "code",
      "source": [
        "print(X_train)"
      ],
      "metadata": {
        "colab": {
          "base_uri": "https://localhost:8080/"
        },
        "id": "saTOHFG7WimU",
        "outputId": "5a66c178-a952-4453-8641-44d16861764a"
      },
      "execution_count": 12,
      "outputs": [
        {
          "output_type": "stream",
          "name": "stdout",
          "text": [
            "[[0.0 1.0 0.0 0.0 0.0 0.0 0.0 0.0 0.0 1.0 nan 60000.0]\n",
            " [0.0 0.0 0.0 0.0 0.0 0.0 1.0 0.0 1.0 0.0 24.0 48000.0]\n",
            " [1.0 0.0 0.0 0.0 0.0 0.0 0.0 0.0 1.0 0.0 28.0 50000.0]\n",
            " [0.0 0.0 0.0 0.0 1.0 0.0 0.0 0.0 1.0 0.0 nan 28000.0]\n",
            " [0.0 0.0 0.0 1.0 0.0 0.0 0.0 0.0 0.0 1.0 45.0 75000.0]\n",
            " [0.0 0.0 0.0 0.0 0.0 1.0 0.0 0.0 0.0 1.0 35.0 70000.0]]\n"
          ]
        }
      ]
    },
    {
      "cell_type": "code",
      "source": [
        "print(X_test)"
      ],
      "metadata": {
        "colab": {
          "base_uri": "https://localhost:8080/"
        },
        "id": "i1V1sHdxWvNq",
        "outputId": "8086990e-c3e8-4bb8-b0b8-773e8e5339b3"
      },
      "execution_count": 13,
      "outputs": [
        {
          "output_type": "stream",
          "name": "stdout",
          "text": [
            "[[0.0 0.0 0.0 0.0 0.0 0.0 0.0 1.0 1.0 0.0 31.0 55166.666666666664]\n",
            " [0.0 0.0 1.0 0.0 0.0 0.0 0.0 0.0 0.0 1.0 22.0 55166.666666666664]]\n"
          ]
        }
      ]
    },
    {
      "cell_type": "code",
      "source": [
        "print(y_train)"
      ],
      "metadata": {
        "colab": {
          "base_uri": "https://localhost:8080/"
        },
        "id": "Cu3fhTXJWyQ8",
        "outputId": "ab8046d9-8406-47ff-b272-bdaf187e84a8"
      },
      "execution_count": 14,
      "outputs": [
        {
          "output_type": "stream",
          "name": "stdout",
          "text": [
            "[1 1 1 0 1 1]\n"
          ]
        }
      ]
    },
    {
      "cell_type": "code",
      "source": [
        "print(y_test)"
      ],
      "metadata": {
        "colab": {
          "base_uri": "https://localhost:8080/"
        },
        "id": "jkXyQD3sWyGl",
        "outputId": "7c5fb5f7-2749-4b98-f339-591d13139033"
      },
      "execution_count": 15,
      "outputs": [
        {
          "output_type": "stream",
          "name": "stdout",
          "text": [
            "[0 0]\n"
          ]
        }
      ]
    },
    {
      "cell_type": "markdown",
      "source": [
        "Feature Scaling"
      ],
      "metadata": {
        "id": "5k8GRbnD2IdG"
      }
    },
    {
      "cell_type": "code",
      "source": [
        "from sklearn.preprocessing import StandardScaler\n",
        "sc = StandardScaler()\n",
        "X_train = sc.fit_transform(X_train)\n",
        "X_test = sc.transform(X_test)"
      ],
      "metadata": {
        "id": "QKFyaEwb2HWW"
      },
      "execution_count": 16,
      "outputs": []
    },
    {
      "cell_type": "code",
      "source": [
        "print(X_train)"
      ],
      "metadata": {
        "colab": {
          "base_uri": "https://localhost:8080/"
        },
        "id": "0WPsoup72HMV",
        "outputId": "c5fded94-78f0-48e4-d9f2-14bba1fc999d"
      },
      "execution_count": 17,
      "outputs": [
        {
          "output_type": "stream",
          "name": "stdout",
          "text": [
            "[[-0.4472136   2.23606798  0.         -0.4472136  -0.4472136  -0.4472136\n",
            "  -0.4472136   0.         -1.          1.                 nan  0.31060931]\n",
            " [-0.4472136  -0.4472136   0.         -0.4472136  -0.4472136  -0.4472136\n",
            "   2.23606798  0.          1.         -1.         -1.12942045 -0.46055864]\n",
            " [ 2.23606798 -0.4472136   0.         -0.4472136  -0.4472136  -0.4472136\n",
            "  -0.4472136   0.          1.         -1.         -0.62745581 -0.33203065]\n",
            " [-0.4472136  -0.4472136   0.         -0.4472136   2.23606798 -0.4472136\n",
            "  -0.4472136   0.          1.         -1.                 nan -1.74583856]\n",
            " [-0.4472136  -0.4472136   0.          2.23606798 -0.4472136  -0.4472136\n",
            "  -0.4472136   0.         -1.          1.          1.50589393  1.27456926]\n",
            " [-0.4472136  -0.4472136   0.         -0.4472136  -0.4472136   2.23606798\n",
            "  -0.4472136   0.         -1.          1.          0.25098232  0.95324928]]\n"
          ]
        }
      ]
    },
    {
      "cell_type": "code",
      "source": [
        "print(X_test)"
      ],
      "metadata": {
        "colab": {
          "base_uri": "https://localhost:8080/"
        },
        "id": "neR1a1dS2HDG",
        "outputId": "fdbe0edc-2161-4655-ff0d-114a480b6c78"
      },
      "execution_count": 18,
      "outputs": [
        {
          "output_type": "stream",
          "name": "stdout",
          "text": [
            "[[-0.4472136  -0.4472136   0.         -0.4472136  -0.4472136  -0.4472136\n",
            "  -0.4472136   1.          1.         -1.         -0.25098232  0.        ]\n",
            " [-0.4472136  -0.4472136   1.         -0.4472136  -0.4472136  -0.4472136\n",
            "  -0.4472136   0.         -1.          1.         -1.38040277  0.        ]]\n"
          ]
        }
      ]
    },
    {
      "cell_type": "code",
      "source": [
        "from sklearn.preprocessing import MinMaxScaler\n",
        "\n",
        "min_max_scaler = MinMaxScaler()\n",
        "scaled_X = min_max_scaler.fit_transform(X[:, :2])"
      ],
      "metadata": {
        "id": "WSy3oOHYpV3g"
      },
      "execution_count": 19,
      "outputs": []
    },
    {
      "cell_type": "code",
      "source": [
        "scaled_age_column = scaled_X[:, 0]\n",
        "scaled_salary_column = scaled_X[:, 1]"
      ],
      "metadata": {
        "id": "BUZ8pC7NpV0H"
      },
      "execution_count": 20,
      "outputs": []
    },
    {
      "cell_type": "code",
      "source": [
        "scaled_age_column"
      ],
      "metadata": {
        "colab": {
          "base_uri": "https://localhost:8080/"
        },
        "id": "6OLRqO41pzzH",
        "outputId": "23bc5649-0a87-4fde-b7c4-b1331a748c72"
      },
      "execution_count": 21,
      "outputs": [
        {
          "output_type": "execute_result",
          "data": {
            "text/plain": [
              "array([1., 0., 0., 0., 0., 0., 0., 0.])"
            ]
          },
          "metadata": {},
          "execution_count": 21
        }
      ]
    },
    {
      "cell_type": "code",
      "source": [
        "scaled_salary_column"
      ],
      "metadata": {
        "colab": {
          "base_uri": "https://localhost:8080/"
        },
        "id": "GvrXlxC2pzvy",
        "outputId": "0464194c-68f7-43aa-82bb-c40a1416f9f8"
      },
      "execution_count": 22,
      "outputs": [
        {
          "output_type": "execute_result",
          "data": {
            "text/plain": [
              "array([0., 1., 0., 0., 0., 0., 0., 0.])"
            ]
          },
          "metadata": {},
          "execution_count": 22
        }
      ]
    },
    {
      "cell_type": "markdown",
      "source": [
        "Create scatter plot"
      ],
      "metadata": {
        "id": "cwaouCfNqJ-M"
      }
    },
    {
      "cell_type": "code",
      "source": [
        "plt.figure(figsize=(8, 6))\n",
        "plt.scatter(scaled_age_column, scaled_salary_column, c='blue', marker='o', label='Scatter Plot')\n",
        "plt.title('Scatter Plot of Scaled Age vs. Scaled Salary')\n",
        "plt.xlabel('Scaled Age')\n",
        "plt.ylabel('Scaled Salary')\n",
        "plt.legend()\n",
        "plt.grid(True)\n",
        "plt.show()"
      ],
      "metadata": {
        "colab": {
          "base_uri": "https://localhost:8080/",
          "height": 564
        },
        "id": "19L8WJACpVxT",
        "outputId": "d823db98-253d-423b-92e5-65ec0286f923"
      },
      "execution_count": 23,
      "outputs": [
        {
          "output_type": "display_data",
          "data": {
            "text/plain": [
              "<Figure size 800x600 with 1 Axes>"
            ],
            "image/png": "[encoded data removed]"
          },
          "metadata": {}
        }
      ]
    },
    {
      "cell_type": "code",
      "source": [
        "age_column = X[:, 0]\n",
        "salary_column = X[:, 1]"
      ],
      "metadata": {
        "id": "moGZzWNh4Y-t"
      },
      "execution_count": 24,
      "outputs": []
    },
    {
      "cell_type": "code",
      "source": [
        "plt.figure(figsize=(8, 6))\n",
        "plt.scatter(age_column, salary_column, c='blue', marker='o', label='Scatter Plot')\n",
        "plt.title('Scatter Plot of Age vs. Salary')\n",
        "plt.xlabel('Age')\n",
        "plt.ylabel('Salary')\n",
        "plt.legend()\n",
        "plt.grid(True)\n",
        "plt.show()"
      ],
      "metadata": {
        "colab": {
          "base_uri": "https://localhost:8080/",
          "height": 564
        },
        "id": "VmCKuG3Y3sXN",
        "outputId": "eb5028ca-cb9e-41d0-eff0-df7960ac0490"
      },
      "execution_count": 25,
      "outputs": [
        {
          "output_type": "display_data",
          "data": {
            "text/plain": [
              "<Figure size 800x600 with 1 Axes>"
            ],
            "image/png": "[encoded data removed]"
          },
          "metadata": {}
        }
      ]
    }
  ]
}