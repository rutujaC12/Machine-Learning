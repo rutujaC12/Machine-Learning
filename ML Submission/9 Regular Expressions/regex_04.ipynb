{
  "nbformat": 4,
  "nbformat_minor": 0,
  "metadata": {
    "colab": {
      "name": "regex_04.ipynb",
      "provenance": [],
      "authorship_tag": "ABX9TyN3XYKXIWWQqrYfhIeIRCiS",
      "include_colab_link": true
    },
    "kernelspec": {
      "name": "python3",
      "display_name": "Python 3"
    }
  },
  "cells": [
    {
      "cell_type": "markdown",
      "metadata": {
        "id": "view-in-github",
        "colab_type": "text"
      },
      "source": [
        "<a href=\"https://colab.research.google.com/github/pythonic-accountant/regex/blob/main/regex_04.ipynb\" target=\"_parent\"><img src=\"https://colab.research.google.com/assets/colab-badge.svg\" alt=\"Open In Colab\"/></a>"
      ]
    },
    {
      "cell_type": "markdown",
      "metadata": {
        "id": "abdE-H7AFqoB"
      },
      "source": [
        "# Regex Lesson 4 - [sets], {repeats}, and more special chars"
      ]
    },
    {
      "cell_type": "code",
      "metadata": {
        "id": "H2xvFGJ9FnNd"
      },
      "source": [
        "import re"
      ],
      "execution_count": null,
      "outputs": []
    },
    {
      "cell_type": "code",
      "metadata": {
        "id": "lODh4E_JGQbC"
      },
      "source": [
        "digit_re = re.compile(r'[0-9]')"
      ],
      "execution_count": null,
      "outputs": []
    },
    {
      "cell_type": "code",
      "metadata": {
        "colab": {
          "base_uri": "https://localhost:8080/"
        },
        "id": "IB8L47LhGSuO",
        "outputId": "c97e5882-591a-4c83-ab87-b5671f18fcd4"
      },
      "source": [
        "digit_re"
      ],
      "execution_count": null,
      "outputs": [
        {
          "output_type": "execute_result",
          "data": {
            "text/plain": [
              "re.compile(r'[0-9]', re.UNICODE)"
            ]
          },
          "metadata": {
            "tags": []
          },
          "execution_count": 3
        }
      ]
    },
    {
      "cell_type": "code",
      "metadata": {
        "colab": {
          "base_uri": "https://localhost:8080/"
        },
        "id": "UXO5pWCJGTrD",
        "outputId": "21806b62-38e5-459a-a90e-5bfc13c6cc0a"
      },
      "source": [
        "numbers = '123 45'\n",
        "digit_re.search(numbers)"
      ],
      "execution_count": null,
      "outputs": [
        {
          "output_type": "execute_result",
          "data": {
            "text/plain": [
              "<_sre.SRE_Match object; span=(0, 1), match='1'>"
            ]
          },
          "metadata": {
            "tags": []
          },
          "execution_count": 4
        }
      ]
    },
    {
      "cell_type": "code",
      "metadata": {
        "colab": {
          "base_uri": "https://localhost:8080/"
        },
        "id": "Jyq1TpVoGY1D",
        "outputId": "9bf56565-c9fe-4246-e75c-879689074a21"
      },
      "source": [
        "re.search(r'\\d', numbers)"
      ],
      "execution_count": null,
      "outputs": [
        {
          "output_type": "execute_result",
          "data": {
            "text/plain": [
              "<_sre.SRE_Match object; span=(0, 1), match='1'>"
            ]
          },
          "metadata": {
            "tags": []
          },
          "execution_count": 5
        }
      ]
    },
    {
      "cell_type": "code",
      "metadata": {
        "colab": {
          "base_uri": "https://localhost:8080/"
        },
        "id": "-nhPTxqDGcb5",
        "outputId": "244abf45-95dd-4126-c376-d2d58dff0b2f"
      },
      "source": [
        "non_one_re = re.compile(r'[2-9]')\n",
        "non_one_re.search(numbers)"
      ],
      "execution_count": null,
      "outputs": [
        {
          "output_type": "execute_result",
          "data": {
            "text/plain": [
              "<_sre.SRE_Match object; span=(1, 2), match='2'>"
            ]
          },
          "metadata": {
            "tags": []
          },
          "execution_count": 6
        }
      ]
    },
    {
      "cell_type": "code",
      "metadata": {
        "colab": {
          "base_uri": "https://localhost:8080/"
        },
        "id": "v_Q0DQn2GlDt",
        "outputId": "fdc7dfd4-8df9-4ec8-8479-ddfe99559b1a"
      },
      "source": [
        "bob_re = re.compile(r'b[ao]b')\n",
        "bob_re.search('bob')"
      ],
      "execution_count": null,
      "outputs": [
        {
          "output_type": "execute_result",
          "data": {
            "text/plain": [
              "<_sre.SRE_Match object; span=(0, 3), match='bob'>"
            ]
          },
          "metadata": {
            "tags": []
          },
          "execution_count": 7
        }
      ]
    },
    {
      "cell_type": "code",
      "metadata": {
        "colab": {
          "base_uri": "https://localhost:8080/"
        },
        "id": "gi6emoZ0Gy0E",
        "outputId": "5881939b-444e-42de-a2a1-52ae8fb3f7a7"
      },
      "source": [
        "bob_re.search('bab')"
      ],
      "execution_count": null,
      "outputs": [
        {
          "output_type": "execute_result",
          "data": {
            "text/plain": [
              "<_sre.SRE_Match object; span=(0, 3), match='bab'>"
            ]
          },
          "metadata": {
            "tags": []
          },
          "execution_count": 8
        }
      ]
    },
    {
      "cell_type": "code",
      "metadata": {
        "id": "aHln4GGMG0ik"
      },
      "source": [
        "bob_re = re.compile(r'b[aow]{2}b')\n",
        "bob_re.search('bob')"
      ],
      "execution_count": null,
      "outputs": []
    },
    {
      "cell_type": "code",
      "metadata": {
        "id": "qkZpmVvtG_KW"
      },
      "source": [
        "bob_re.search('baaaaaoooaooawowwowoooowoooooowb')"
      ],
      "execution_count": null,
      "outputs": []
    },
    {
      "cell_type": "code",
      "metadata": {
        "colab": {
          "base_uri": "https://localhost:8080/"
        },
        "id": "2zRpFFypHBmu",
        "outputId": "855f1630-7e15-40a9-f7a2-4739379982fd"
      },
      "source": [
        "bob_re.search('bawb')"
      ],
      "execution_count": null,
      "outputs": [
        {
          "output_type": "execute_result",
          "data": {
            "text/plain": [
              "<_sre.SRE_Match object; span=(0, 4), match='bawb'>"
            ]
          },
          "metadata": {
            "tags": []
          },
          "execution_count": 15
        }
      ]
    },
    {
      "cell_type": "code",
      "metadata": {
        "colab": {
          "base_uri": "https://localhost:8080/"
        },
        "id": "0ywlx_-lHQOP",
        "outputId": "41393333-bb1e-4720-bb48-a57ecbb12f1f"
      },
      "source": [
        "bob_re = re.compile(r'b[aow]{1,2}b')\n",
        "bob_re.search('bob')"
      ],
      "execution_count": null,
      "outputs": [
        {
          "output_type": "execute_result",
          "data": {
            "text/plain": [
              "<_sre.SRE_Match object; span=(0, 3), match='bob'>"
            ]
          },
          "metadata": {
            "tags": []
          },
          "execution_count": 16
        }
      ]
    },
    {
      "cell_type": "code",
      "metadata": {
        "colab": {
          "base_uri": "https://localhost:8080/"
        },
        "id": "H4jTZCilHSjB",
        "outputId": "d6d52957-ae28-4503-a89c-ddc4fef798ed"
      },
      "source": [
        "bob_re.search('bawb')"
      ],
      "execution_count": null,
      "outputs": [
        {
          "output_type": "execute_result",
          "data": {
            "text/plain": [
              "<_sre.SRE_Match object; span=(0, 4), match='bawb'>"
            ]
          },
          "metadata": {
            "tags": []
          },
          "execution_count": 17
        }
      ]
    },
    {
      "cell_type": "code",
      "metadata": {
        "colab": {
          "base_uri": "https://localhost:8080/"
        },
        "id": "voNWfs8oHV9m",
        "outputId": "a841eb6a-821e-48fc-cde5-4bf8e3de7bf9"
      },
      "source": [
        "phone_re = re.compile(r'\\d{3}-\\d{3}-\\d{4}')\n",
        "phone_re.search('my number is 123-456-1234')"
      ],
      "execution_count": null,
      "outputs": [
        {
          "output_type": "execute_result",
          "data": {
            "text/plain": [
              "<_sre.SRE_Match object; span=(13, 25), match='123-456-1234'>"
            ]
          },
          "metadata": {
            "tags": []
          },
          "execution_count": 19
        }
      ]
    },
    {
      "cell_type": "code",
      "metadata": {
        "id": "FbZrDHOWHecP"
      },
      "source": [
        ""
      ],
      "execution_count": null,
      "outputs": []
    }
  ]
}