{
  "cells": [
    {
      "cell_type": "markdown",
      "metadata": {
        "colab_type": "text",
        "id": "view-in-github"
      },
      "source": [
        "<a href=\"https://colab.research.google.com/github/pythonic-accountant/regex/blob/main/regex_00.ipynb\" target=\"_parent\"><img src=\"https://colab.research.google.com/assets/colab-badge.svg\" alt=\"Open In Colab\"/></a>"
      ]
    },
    {
      "cell_type": "markdown",
      "metadata": {
        "id": "YhNjomh9E4g-"
      },
      "source": [
        "# What is regular expression?\n",
        "\n",
        "Regular expression (regex for short) is a series of characters used for pattern matching.\n",
        "\n",
        "When / where / why would you use regular expression?\n",
        "\n",
        "There are countless uses of regex, but here are a few common examples of where I use it:\n",
        "1. Determining whether a document, string, or line contains a specific word or pattern\n",
        "2. Finding out how many times a specific word or pattern appears in a document or line\n",
        "3. Identifying lines in a document that I am either interested in getting data from, or want to ignore\n",
        "4. Extracting data elements based on their pattern or location\n",
        "5. Much more"
      ]
    },
    {
      "cell_type": "markdown",
      "metadata": {
        "id": "0cyVInjHHXAm"
      },
      "source": [
        "## First import the regex library 're'"
      ]
    },
    {
      "cell_type": "code",
      "execution_count": null,
      "metadata": {
        "id": "VZGv6699GcrE"
      },
      "outputs": [],
      "source": [
        "import re"
      ]
    },
    {
      "cell_type": "markdown",
      "metadata": {
        "id": "q7Np4QCpHcoc"
      },
      "source": [
        "## re.search"
      ]
    },
    {
      "cell_type": "code",
      "execution_count": null,
      "metadata": {
        "colab": {
          "base_uri": "https://localhost:8080/"
        },
        "id": "RsJFLrVhIa6l",
        "outputId": "5b5c2591-59f1-4736-8e0d-8d7a9c445681"
      },
      "outputs": [
        {
          "data": {
            "text/plain": [
              "<_sre.SRE_Match object; span=(0, 5), match='hello'>"
            ]
          },
          "execution_count": 2,
          "metadata": {
            "tags": []
          },
          "output_type": "execute_result"
        }
      ],
      "source": [
        "line = 'hello hello'\n",
        "re.search('hello', line)"
      ]
    },
    {
      "cell_type": "code",
      "execution_count": null,
      "metadata": {
        "colab": {
          "base_uri": "https://localhost:8080/"
        },
        "id": "Ha3-q86FJEal",
        "outputId": "a4c0f6a1-ecf6-4c03-8af0-0bddc0dbbde0"
      },
      "outputs": [
        {
          "data": {
            "text/plain": [
              "<_sre.SRE_Match object; span=(0, 4), match='hell'>"
            ]
          },
          "execution_count": 3,
          "metadata": {
            "tags": []
          },
          "output_type": "execute_result"
        }
      ],
      "source": [
        "re.search('hell', line)"
      ]
    },
    {
      "cell_type": "code",
      "execution_count": null,
      "metadata": {
        "colab": {
          "base_uri": "https://localhost:8080/"
        },
        "id": "D0gShkRTJTk4",
        "outputId": "67b6a643-419a-46b8-a049-64dfb37a489d"
      },
      "outputs": [
        {
          "data": {
            "text/plain": [
              "<_sre.SRE_Match object; span=(1, 5), match='ello'>"
            ]
          },
          "execution_count": 4,
          "metadata": {
            "tags": []
          },
          "output_type": "execute_result"
        }
      ],
      "source": [
        "re.search('ello', line)"
      ]
    },
    {
      "cell_type": "code",
      "execution_count": null,
      "metadata": {
        "id": "abPAjEjpM-6o"
      },
      "outputs": [],
      "source": [
        "text = '''hello, how are you today?\n",
        "oh, ello! I'm doing well thanks how are you?\n",
        "I'm doing great, hell yeah!'''"
      ]
    },
    {
      "cell_type": "code",
      "execution_count": null,
      "metadata": {
        "colab": {
          "base_uri": "https://localhost:8080/"
        },
        "id": "Evjf0tS0N-Be",
        "outputId": "ae1322a6-8f1e-4ea3-ae8b-8f0d484e45af"
      },
      "outputs": [
        {
          "name": "stdout",
          "output_type": "stream",
          "text": [
            "hello, how are you today?\n"
          ]
        }
      ],
      "source": [
        "for line in text.split('\\n'):\n",
        "    if re.search('hello', line):  # Does the same thing as \"if 'hello' in line:\"\n",
        "        print(line)"
      ]
    },
    {
      "cell_type": "code",
      "execution_count": null,
      "metadata": {
        "colab": {
          "base_uri": "https://localhost:8080/"
        },
        "id": "5mFyU4W8Og6A",
        "outputId": "d947dc95-709a-468b-9db7-3782d336c392"
      },
      "outputs": [
        {
          "name": "stdout",
          "output_type": "stream",
          "text": [
            "hello, how are you today?\n"
          ]
        }
      ],
      "source": [
        "for line in text.split('\\n'):\n",
        "    if 'hello' in line:\n",
        "        print(line)"
      ]
    },
    {
      "cell_type": "code",
      "execution_count": null,
      "metadata": {
        "colab": {
          "base_uri": "https://localhost:8080/"
        },
        "id": "jMMIVCotN9zM",
        "outputId": "0f823c77-eed3-4999-d2de-b1decf2c6a35"
      },
      "outputs": [
        {
          "name": "stdout",
          "output_type": "stream",
          "text": [
            "hello, how are you today?\n",
            "I'm doing great, hell yeah!\n"
          ]
        }
      ],
      "source": [
        "for line in text.split('\\n'):\n",
        "    if re.search('hell', line):\n",
        "        print(line)"
      ]
    },
    {
      "cell_type": "code",
      "execution_count": null,
      "metadata": {
        "colab": {
          "base_uri": "https://localhost:8080/"
        },
        "id": "Ng8TH79ZM-nO",
        "outputId": "5af1bfe0-f6bd-4e04-df41-04e7d54d3943"
      },
      "outputs": [
        {
          "name": "stdout",
          "output_type": "stream",
          "text": [
            "hello, how are you today?\n",
            "oh, ello! I'm doing well thanks how are you?\n"
          ]
        }
      ],
      "source": [
        "for line in text.split('\\n'):\n",
        "    if re.search('ello', line):\n",
        "        print(line)"
      ]
    }
  ],
  "metadata": {
    "colab": {
      "include_colab_link": true,
      "name": "regex_series.ipynb",
      "provenance": []
    },
    "kernelspec": {
      "display_name": "Python 3",
      "name": "python3"
    }
  },
  "nbformat": 4,
  "nbformat_minor": 0
}
