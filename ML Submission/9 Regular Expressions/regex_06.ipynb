{
  "nbformat": 4,
  "nbformat_minor": 0,
  "metadata": {
    "colab": {
      "name": "regex_06.ipynb",
      "provenance": [],
      "authorship_tag": "ABX9TyNLrmR/t58pxBgC3MhHImys",
      "include_colab_link": true
    },
    "kernelspec": {
      "name": "python3",
      "display_name": "Python 3"
    }
  },
  "cells": [
    {
      "cell_type": "markdown",
      "metadata": {
        "id": "view-in-github",
        "colab_type": "text"
      },
      "source": [
        "<a href=\"https://colab.research.google.com/github/pythonic-accountant/regex/blob/main/regex_06.ipynb\" target=\"_parent\"><img src=\"https://colab.research.google.com/assets/colab-badge.svg\" alt=\"Open In Colab\"/></a>"
      ]
    },
    {
      "cell_type": "markdown",
      "metadata": {
        "id": "qDbxgeT2IDUb"
      },
      "source": [
        "Regex Lesson 6 - findall and groups"
      ]
    },
    {
      "cell_type": "code",
      "metadata": {
        "id": "t_hknAy6IAU6"
      },
      "source": [
        "import re"
      ],
      "execution_count": 2,
      "outputs": []
    },
    {
      "cell_type": "code",
      "metadata": {
        "id": "NpLqR4ABIe-D"
      },
      "source": [
        "text = '''\n",
        "emails to send are as follows:\n",
        "bob@mail.com\n",
        "prez@whitehouse.gov\n",
        "mary@lalaland.far\n",
        "jon@usa.mil\n",
        "thanks again!'''"
      ],
      "execution_count": 3,
      "outputs": []
    },
    {
      "cell_type": "code",
      "metadata": {
        "colab": {
          "base_uri": "https://localhost:8080/"
        },
        "id": "OZc0EZWhIpvJ",
        "outputId": "91047613-9401-44b1-b9da-8e8da1daaec2"
      },
      "source": [
        "email_re = re.compile(r'\\w+@\\w+\\.\\w+')\n",
        "email_re.search('hi@mail.com')"
      ],
      "execution_count": 4,
      "outputs": [
        {
          "output_type": "execute_result",
          "data": {
            "text/plain": [
              "<_sre.SRE_Match object; span=(0, 11), match='hi@mail.com'>"
            ]
          },
          "metadata": {
            "tags": []
          },
          "execution_count": 4
        }
      ]
    },
    {
      "cell_type": "code",
      "metadata": {
        "id": "RyfVstNNI6E2"
      },
      "source": [
        "emails = email_re.findall(text)"
      ],
      "execution_count": 6,
      "outputs": []
    },
    {
      "cell_type": "code",
      "metadata": {
        "colab": {
          "base_uri": "https://localhost:8080/"
        },
        "id": "5GXG_uZII9pX",
        "outputId": "3a95f3f1-9c7b-4dbb-aefe-f5b5e51b6f1d"
      },
      "source": [
        "for email in emails:\n",
        "    print(f'sending email to {email}')"
      ],
      "execution_count": 7,
      "outputs": [
        {
          "output_type": "stream",
          "text": [
            "sending email to bob@mail.com\n",
            "sending email to prez@whitehouse.gov\n",
            "sending email to mary@lalaland.far\n",
            "sending email to jon@usa.mil\n"
          ],
          "name": "stdout"
        }
      ]
    },
    {
      "cell_type": "code",
      "metadata": {
        "id": "nlr6Tl6zJFQB"
      },
      "source": [
        "new_text = '''\n",
        "emails to send are as follows:\n",
        "bob the slob - bob_3@mail.com\n",
        "miss prez - prez_awesome@whitehouse.gov\n",
        "mary smith - mary-mary@lalaland.far\n",
        "mr jonny boy - jon.the.BOMB@usa.mil\n",
        "thanks again!'''"
      ],
      "execution_count": 8,
      "outputs": []
    },
    {
      "cell_type": "code",
      "metadata": {
        "colab": {
          "base_uri": "https://localhost:8080/"
        },
        "id": "ojknUoCRJaBl",
        "outputId": "85a60256-d29d-47f1-c14c-799802c4528f"
      },
      "source": [
        "emails_re = re.compile(r'.* - \\w+@\\w+\\.\\w+')\n",
        "emails_re.findall(new_text)"
      ],
      "execution_count": 9,
      "outputs": [
        {
          "output_type": "execute_result",
          "data": {
            "text/plain": [
              "['bob the slob - bob@mail.com',\n",
              " 'miss prez - prez@whitehouse.gov',\n",
              " 'mary smith - mary@lalaland.far',\n",
              " 'mr jonny boy - jon@usa.mil']"
            ]
          },
          "metadata": {
            "tags": []
          },
          "execution_count": 9
        }
      ]
    },
    {
      "cell_type": "code",
      "metadata": {
        "colab": {
          "base_uri": "https://localhost:8080/"
        },
        "id": "tbfGHvvqJ5WP",
        "outputId": "54ec3b5a-ad3f-49a1-e9e9-858cbf3fe2e9"
      },
      "source": [
        "emails_re.findall('mary smith - marymar y@lalaland.far; mr jonny boy - jon.the.BOMB@usa.mil')"
      ],
      "execution_count": 10,
      "outputs": [
        {
          "output_type": "execute_result",
          "data": {
            "text/plain": [
              "[]"
            ]
          },
          "metadata": {
            "tags": []
          },
          "execution_count": 10
        }
      ]
    },
    {
      "cell_type": "code",
      "metadata": {
        "id": "OTx2nHz9KHSM"
      },
      "source": [
        "# with groups\n",
        "emails_re = re.compile(r'(.*) - (\\w+@\\w+\\.\\w+)')\n",
        "response = emails_re.search(new_text)"
      ],
      "execution_count": 11,
      "outputs": []
    },
    {
      "cell_type": "code",
      "metadata": {
        "colab": {
          "base_uri": "https://localhost:8080/"
        },
        "id": "l8P1DqRPKbx8",
        "outputId": "08438d92-238a-4aeb-9375-b6fb9dbe8538"
      },
      "source": [
        "name, email = response[1], response[2]\n",
        "print(name)\n",
        "print(email)"
      ],
      "execution_count": 16,
      "outputs": [
        {
          "output_type": "stream",
          "text": [
            "bob the slob\n",
            "bob@mail.com\n"
          ],
          "name": "stdout"
        }
      ]
    },
    {
      "cell_type": "code",
      "metadata": {
        "colab": {
          "base_uri": "https://localhost:8080/"
        },
        "id": "VEPGIX_gKce9",
        "outputId": "36daee94-693b-476f-c18b-5c087c1b0287"
      },
      "source": [
        "for line in new_text.split('\\n'):\n",
        "    resp = emails_re.search(line)\n",
        "    if resp:\n",
        "        name, email = resp[1], resp[2]\n",
        "        print('*' * 15)\n",
        "        print(f'Name: {name}; Email: {email}')"
      ],
      "execution_count": 18,
      "outputs": [
        {
          "output_type": "stream",
          "text": [
            "***************\n",
            "Name: bob the slob; Email: bob@mail.com\n",
            "***************\n",
            "Name: miss prez; Email: prez@whitehouse.gov\n",
            "***************\n",
            "Name: mary smith; Email: mary@lalaland.far\n",
            "***************\n",
            "Name: mr jonny boy; Email: jon@usa.mil\n"
          ],
          "name": "stdout"
        }
      ]
    },
    {
      "cell_type": "code",
      "metadata": {
        "id": "UjDQZtNVK5ad"
      },
      "source": [
        ""
      ],
      "execution_count": null,
      "outputs": []
    }
  ]
}