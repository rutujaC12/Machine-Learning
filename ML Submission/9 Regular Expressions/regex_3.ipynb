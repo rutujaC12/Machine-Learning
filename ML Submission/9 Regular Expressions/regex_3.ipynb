{
  "nbformat": 4,
  "nbformat_minor": 0,
  "metadata": {
    "colab": {
      "provenance": []
    },
    "kernelspec": {
      "name": "python3",
      "display_name": "Python 3"
    },
    "language_info": {
      "name": "python"
    }
  },
  "cells": [
    {
      "cell_type": "markdown",
      "source": [
        "digit and word characters \\d and \\w"
      ],
      "metadata": {
        "id": "l8-L1PICn4TW"
      }
    },
    {
      "cell_type": "code",
      "execution_count": 1,
      "metadata": {
        "id": "ewuBJb4nn3Ca"
      },
      "outputs": [],
      "source": [
        "import re"
      ]
    },
    {
      "cell_type": "code",
      "source": [
        "x = 'The sun went down, and Alex walked on the beach.'"
      ],
      "metadata": {
        "id": "yEd-q-iToD5F"
      },
      "execution_count": 2,
      "outputs": []
    },
    {
      "cell_type": "code",
      "source": [
        "text_re = re.compile('\\w+ \\d+\\w\\w')"
      ],
      "metadata": {
        "id": "_jahXkx1oD1t"
      },
      "execution_count": 3,
      "outputs": []
    },
    {
      "cell_type": "code",
      "source": [
        "text_re = re.compile('\\w+ \\w+\\w\\w')"
      ],
      "metadata": {
        "id": "R9B1R-lCoDzf"
      },
      "execution_count": 4,
      "outputs": []
    },
    {
      "cell_type": "code",
      "source": [
        "text_re.search(x)"
      ],
      "metadata": {
        "colab": {
          "base_uri": "https://localhost:8080/"
        },
        "id": "LmUQTbodoDxA",
        "outputId": "8d030f82-ebbd-47bf-a8ac-a6ba3a4850c3"
      },
      "execution_count": 5,
      "outputs": [
        {
          "output_type": "execute_result",
          "data": {
            "text/plain": [
              "<re.Match object; span=(0, 7), match='The sun'>"
            ]
          },
          "metadata": {},
          "execution_count": 5
        }
      ]
    },
    {
      "cell_type": "code",
      "source": [
        "y = 'The cheerful song of birds greeted the dawn as the sun painted the sky in hues of pink and orange'\n",
        "text_re.search(y)"
      ],
      "metadata": {
        "colab": {
          "base_uri": "https://localhost:8080/"
        },
        "id": "oCTr98QIoDug",
        "outputId": "5f3c3866-bcf0-4c67-b0b2-60c62473ede5"
      },
      "execution_count": 6,
      "outputs": [
        {
          "output_type": "execute_result",
          "data": {
            "text/plain": [
              "<re.Match object; span=(0, 12), match='The cheerful'>"
            ]
          },
          "metadata": {},
          "execution_count": 6
        }
      ]
    },
    {
      "cell_type": "code",
      "source": [
        "text_re.search(y)"
      ],
      "metadata": {
        "colab": {
          "base_uri": "https://localhost:8080/"
        },
        "id": "b26rVYWfpM3Z",
        "outputId": "8a0fdfeb-c309-4aa2-badf-2d9b908d04c7"
      },
      "execution_count": 8,
      "outputs": [
        {
          "output_type": "execute_result",
          "data": {
            "text/plain": [
              "<re.Match object; span=(0, 12), match='The cheerful'>"
            ]
          },
          "metadata": {},
          "execution_count": 8
        }
      ]
    }
  ]
}