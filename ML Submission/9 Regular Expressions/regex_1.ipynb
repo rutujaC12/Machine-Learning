{
  "nbformat": 4,
  "nbformat_minor": 0,
  "metadata": {
    "colab": {
      "provenance": []
    },
    "kernelspec": {
      "name": "python3",
      "display_name": "Python 3"
    },
    "language_info": {
      "name": "python"
    }
  },
  "cells": [
    {
      "cell_type": "markdown",
      "source": [
        "re.search"
      ],
      "metadata": {
        "id": "wulFUls_j81I"
      }
    },
    {
      "cell_type": "code",
      "execution_count": 1,
      "metadata": {
        "id": "O5z16cHdg2dx"
      },
      "outputs": [],
      "source": [
        "import re"
      ]
    },
    {
      "cell_type": "code",
      "source": [
        "data = 'hello ,This is Rutuja'\n",
        "re.search('hello', data)"
      ],
      "metadata": {
        "colab": {
          "base_uri": "https://localhost:8080/"
        },
        "id": "QE4AnaaZhGQH",
        "outputId": "f1743382-de5e-4c5a-dfcc-ca844b58ed76"
      },
      "execution_count": 2,
      "outputs": [
        {
          "output_type": "execute_result",
          "data": {
            "text/plain": [
              "<re.Match object; span=(0, 5), match='hello'>"
            ]
          },
          "metadata": {},
          "execution_count": 2
        }
      ]
    },
    {
      "cell_type": "code",
      "source": [
        "re.search('is', data)"
      ],
      "metadata": {
        "colab": {
          "base_uri": "https://localhost:8080/"
        },
        "id": "EYMYyoVBhGM2",
        "outputId": "cc0e9538-5ff2-4f37-b5cd-af3a1223d160"
      },
      "execution_count": 3,
      "outputs": [
        {
          "output_type": "execute_result",
          "data": {
            "text/plain": [
              "<re.Match object; span=(9, 11), match='is'>"
            ]
          },
          "metadata": {},
          "execution_count": 3
        }
      ]
    },
    {
      "cell_type": "code",
      "source": [
        "re.search('Ru', data)"
      ],
      "metadata": {
        "colab": {
          "base_uri": "https://localhost:8080/"
        },
        "id": "Q0Eq3pPIhGKB",
        "outputId": "2cbca8a7-086c-4b4f-c684-49557d463ef9"
      },
      "execution_count": 4,
      "outputs": [
        {
          "output_type": "execute_result",
          "data": {
            "text/plain": [
              "<re.Match object; span=(15, 17), match='Ru'>"
            ]
          },
          "metadata": {},
          "execution_count": 4
        }
      ]
    },
    {
      "cell_type": "code",
      "source": [
        "text = '''hi,What's today's date?\n",
        "oh, Hello! Today is Wednesday.What is your plan for tomorrow.\n",
        "Nothing special.'''"
      ],
      "metadata": {
        "id": "rK60fW6MhFgV"
      },
      "execution_count": 5,
      "outputs": []
    },
    {
      "cell_type": "code",
      "source": [
        "for data in text.split('\\n'):\n",
        "    if re.search('date', data):\n",
        "        print(data)"
      ],
      "metadata": {
        "colab": {
          "base_uri": "https://localhost:8080/"
        },
        "id": "H_Iugh8WhFdL",
        "outputId": "fad00351-a922-4695-f5dc-f95619ef767b"
      },
      "execution_count": 6,
      "outputs": [
        {
          "output_type": "stream",
          "name": "stdout",
          "text": [
            "hi,What's today's date?\n"
          ]
        }
      ]
    },
    {
      "cell_type": "code",
      "source": [
        "for data in text.split('\\n'):\n",
        "    if 'date' in data:\n",
        "        print(data)"
      ],
      "metadata": {
        "colab": {
          "base_uri": "https://localhost:8080/"
        },
        "id": "RZKSWleOhFat",
        "outputId": "d6471e9c-0e2c-4072-dcd0-44848986bbb3"
      },
      "execution_count": 7,
      "outputs": [
        {
          "output_type": "stream",
          "name": "stdout",
          "text": [
            "hi,What's today's date?\n"
          ]
        }
      ]
    },
    {
      "cell_type": "code",
      "source": [
        "for data in text.split('\\n'):\n",
        "    if re.search('dat', data):\n",
        "        print(data)"
      ],
      "metadata": {
        "colab": {
          "base_uri": "https://localhost:8080/"
        },
        "id": "1l_AwrwmhFYP",
        "outputId": "f8bbb48f-88ac-40ef-b1d3-6b79d73fd9e9"
      },
      "execution_count": 8,
      "outputs": [
        {
          "output_type": "stream",
          "name": "stdout",
          "text": [
            "hi,What's today's date?\n"
          ]
        }
      ]
    },
    {
      "cell_type": "code",
      "source": [
        "for data in text.split('\\n'):\n",
        "    if re.search('ate', data):\n",
        "        print(data)"
      ],
      "metadata": {
        "colab": {
          "base_uri": "https://localhost:8080/"
        },
        "id": "x5NyJQ1xhFV4",
        "outputId": "ede8d106-2e3c-457e-e406-16f6b2a0a360"
      },
      "execution_count": 9,
      "outputs": [
        {
          "output_type": "stream",
          "name": "stdout",
          "text": [
            "hi,What's today's date?\n"
          ]
        }
      ]
    },
    {
      "cell_type": "code",
      "source": [],
      "metadata": {
        "id": "bG7FiKP6hFTq"
      },
      "execution_count": null,
      "outputs": []
    }
  ]
}