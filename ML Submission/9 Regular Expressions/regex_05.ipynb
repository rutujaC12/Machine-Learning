{
  "nbformat": 4,
  "nbformat_minor": 0,
  "metadata": {
    "colab": {
      "name": "regex_05.ipynb",
      "provenance": [],
      "authorship_tag": "ABX9TyOL7X0jfyyoCFS9p3Fafow6",
      "include_colab_link": true
    },
    "kernelspec": {
      "name": "python3",
      "display_name": "Python 3"
    }
  },
  "cells": [
    {
      "cell_type": "markdown",
      "metadata": {
        "id": "view-in-github",
        "colab_type": "text"
      },
      "source": [
        "<a href=\"https://colab.research.google.com/github/pythonic-accountant/regex/blob/main/regex_05.ipynb\" target=\"_parent\"><img src=\"https://colab.research.google.com/assets/colab-badge.svg\" alt=\"Open In Colab\"/></a>"
      ]
    },
    {
      "cell_type": "markdown",
      "metadata": {
        "id": "KKggkseKC-Eo"
      },
      "source": [
        "Regex Lesson 5 - special characters \\s, \\S, \\W, \\D\n"
      ]
    },
    {
      "cell_type": "code",
      "metadata": {
        "id": "oHAQ4MBuGlPM"
      },
      "source": [
        "import re"
      ],
      "execution_count": null,
      "outputs": []
    },
    {
      "cell_type": "code",
      "metadata": {
        "id": "aLjYs17ZEb1x"
      },
      "source": [
        "space = re.compile(r'\\s{3}')"
      ],
      "execution_count": null,
      "outputs": []
    },
    {
      "cell_type": "code",
      "metadata": {
        "id": "Bfp2xiJ4GrEO"
      },
      "source": [
        "sentence = 'Hey!  I like to use    lots of spaces!!   Cool beans.'"
      ],
      "execution_count": null,
      "outputs": []
    },
    {
      "cell_type": "code",
      "metadata": {
        "colab": {
          "base_uri": "https://localhost:8080/"
        },
        "id": "iam2NoF-Gudw",
        "outputId": "238699db-06ad-4986-b388-2d6d6f689eee"
      },
      "source": [
        "space.search(sentence)"
      ],
      "execution_count": null,
      "outputs": [
        {
          "output_type": "execute_result",
          "data": {
            "text/plain": [
              "<_sre.SRE_Match object; span=(19, 22), match='   '>"
            ]
          },
          "metadata": {
            "tags": []
          },
          "execution_count": 6
        }
      ]
    },
    {
      "cell_type": "code",
      "metadata": {
        "colab": {
          "base_uri": "https://localhost:8080/"
        },
        "id": "NZiG7BvbGwBd",
        "outputId": "e8e689d2-4512-4d71-f9bf-58ab9f5e592c"
      },
      "source": [
        "not_space = re.compile(r'\\S{5}')\n",
        "not_space.search(sentence)"
      ],
      "execution_count": null,
      "outputs": [
        {
          "output_type": "execute_result",
          "data": {
            "text/plain": [
              "<_sre.SRE_Match object; span=(31, 36), match='space'>"
            ]
          },
          "metadata": {
            "tags": []
          },
          "execution_count": 7
        }
      ]
    },
    {
      "cell_type": "code",
      "metadata": {
        "colab": {
          "base_uri": "https://localhost:8080/"
        },
        "id": "00m2__JsG8iC",
        "outputId": "acb9184a-e2eb-4ead-eec2-619a26011bdc"
      },
      "source": [
        "four_ltr = re.compile(r'\\s\\S{4}\\s')\n",
        "four_ltr.search(sentence)"
      ],
      "execution_count": null,
      "outputs": [
        {
          "output_type": "execute_result",
          "data": {
            "text/plain": [
              "<_sre.SRE_Match object; span=(7, 13), match=' like '>"
            ]
          },
          "metadata": {
            "tags": []
          },
          "execution_count": 9
        }
      ]
    },
    {
      "cell_type": "code",
      "metadata": {
        "id": "TBjlzTEZHGsJ"
      },
      "source": [
        "non_dig = re.compile('Cool \\D{5}')"
      ],
      "execution_count": null,
      "outputs": []
    },
    {
      "cell_type": "code",
      "metadata": {
        "colab": {
          "base_uri": "https://localhost:8080/"
        },
        "id": "4AINsfwfHfNJ",
        "outputId": "8b86456e-7e6d-42ad-bd0f-a227d0b006ca"
      },
      "source": [
        "non_dig.search(sentence)"
      ],
      "execution_count": null,
      "outputs": [
        {
          "output_type": "execute_result",
          "data": {
            "text/plain": [
              "<_sre.SRE_Match object; span=(42, 52), match='Cool beans'>"
            ]
          },
          "metadata": {
            "tags": []
          },
          "execution_count": 11
        }
      ]
    },
    {
      "cell_type": "code",
      "metadata": {
        "id": "HO-hOwY_HgdX"
      },
      "source": [
        "new_sent = 'Cool bean5!'\n",
        "non_dig.search(new_sent)"
      ],
      "execution_count": null,
      "outputs": []
    },
    {
      "cell_type": "code",
      "metadata": {
        "id": "8-on-eaTHqWh"
      },
      "source": [
        ""
      ],
      "execution_count": null,
      "outputs": []
    }
  ]
}