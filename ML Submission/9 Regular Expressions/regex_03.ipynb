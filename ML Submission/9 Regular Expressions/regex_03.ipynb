{
  "nbformat": 4,
  "nbformat_minor": 0,
  "metadata": {
    "colab": {
      "name": "regex_03.ipynb",
      "provenance": [],
      "authorship_tag": "ABX9TyOK4CHq5E1S8aBN25aQmy9c",
      "include_colab_link": true
    },
    "kernelspec": {
      "name": "python3",
      "display_name": "Python 3"
    }
  },
  "cells": [
    {
      "cell_type": "markdown",
      "metadata": {
        "id": "view-in-github",
        "colab_type": "text"
      },
      "source": [
        "<a href=\"https://colab.research.google.com/github/pythonic-accountant/regex/blob/main/regex_03.ipynb\" target=\"_parent\"><img src=\"https://colab.research.google.com/assets/colab-badge.svg\" alt=\"Open In Colab\"/></a>"
      ]
    },
    {
      "cell_type": "markdown",
      "metadata": {
        "id": "cQ2XAhuxDiZk"
      },
      "source": [
        "# Regex lesson 3 - digit and word characters \\d and \\w"
      ]
    },
    {
      "cell_type": "code",
      "metadata": {
        "id": "BPTUaOkrDgJt"
      },
      "source": [
        "import re"
      ],
      "execution_count": null,
      "outputs": []
    },
    {
      "cell_type": "code",
      "metadata": {
        "id": "uCEf11IgEK-j"
      },
      "source": [
        "s = 'bob has a birthday on Feb 25th'"
      ],
      "execution_count": null,
      "outputs": []
    },
    {
      "cell_type": "code",
      "metadata": {
        "id": "i-4nibRfEQdJ"
      },
      "source": [
        "birthday_re = re.compile('\\w+ \\d+\\w\\w')"
      ],
      "execution_count": null,
      "outputs": []
    },
    {
      "cell_type": "code",
      "metadata": {
        "id": "IOnheSAgEzW8"
      },
      "source": [
        "birthday2_re = re.compile('\\w+ \\w+\\w\\w')"
      ],
      "execution_count": null,
      "outputs": []
    },
    {
      "cell_type": "code",
      "metadata": {
        "colab": {
          "base_uri": "https://localhost:8080/"
        },
        "id": "g9UBy1jrEm1O",
        "outputId": "1fff168f-4743-4c1a-9f78-7797f2c8cfbd"
      },
      "source": [
        "birthday_re.search(s)"
      ],
      "execution_count": null,
      "outputs": [
        {
          "output_type": "execute_result",
          "data": {
            "text/plain": [
              "<_sre.SRE_Match object; span=(22, 30), match='Feb 25th'>"
            ]
          },
          "metadata": {
            "tags": []
          },
          "execution_count": 4
        }
      ]
    },
    {
      "cell_type": "code",
      "metadata": {
        "colab": {
          "base_uri": "https://localhost:8080/"
        },
        "id": "MPATuRxnEofp",
        "outputId": "da72686b-2dcb-4346-eab1-816d23423039"
      },
      "source": [
        "s2 = 'sara has a birthday on March 3rd'\n",
        "birthday_re.search(s2)"
      ],
      "execution_count": null,
      "outputs": [
        {
          "output_type": "execute_result",
          "data": {
            "text/plain": [
              "<_sre.SRE_Match object; span=(23, 32), match='March 3rd'>"
            ]
          },
          "metadata": {
            "tags": []
          },
          "execution_count": 5
        }
      ]
    },
    {
      "cell_type": "code",
      "metadata": {
        "colab": {
          "base_uri": "https://localhost:8080/"
        },
        "id": "NtS7DSyEEuDQ",
        "outputId": "a5e882d8-1779-41d9-e208-4dda0a7da094"
      },
      "source": [
        "birthday2_re.search(s2)"
      ],
      "execution_count": null,
      "outputs": [
        {
          "output_type": "execute_result",
          "data": {
            "text/plain": [
              "<_sre.SRE_Match object; span=(0, 8), match='sara has'>"
            ]
          },
          "metadata": {
            "tags": []
          },
          "execution_count": 8
        }
      ]
    },
    {
      "cell_type": "code",
      "metadata": {
        "id": "AQ-OwEg-E45z"
      },
      "source": [
        ""
      ],
      "execution_count": null,
      "outputs": []
    }
  ]
}