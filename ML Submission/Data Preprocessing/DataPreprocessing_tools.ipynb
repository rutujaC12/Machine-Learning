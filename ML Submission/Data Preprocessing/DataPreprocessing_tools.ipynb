{
  "nbformat": 4,
  "nbformat_minor": 0,
  "metadata": {
    "colab": {
      "provenance": []
    },
    "kernelspec": {
      "name": "python3",
      "display_name": "Python 3"
    },
    "language_info": {
      "name": "python"
    }
  },
  "cells": [
    {
      "cell_type": "markdown",
      "source": [
        "Importing the Libraries"
      ],
      "metadata": {
        "id": "7_7zpBhO26ja"
      }
    },
    {
      "cell_type": "code",
      "execution_count": 21,
      "metadata": {
        "id": "03ffm7zr2w2q"
      },
      "outputs": [],
      "source": [
        "import numpy as np\n",
        "import pandas as pd\n"
      ]
    },
    {
      "cell_type": "markdown",
      "source": [
        "Importing the Dataset"
      ],
      "metadata": {
        "id": "43QZyQdI3Xvc"
      }
    },
    {
      "cell_type": "code",
      "source": [
        "dataset = pd.read_csv('Best Selling Mobile Phones.csv')\n",
        "X = dataset.iloc[:, :-1].values\n",
        "Y = dataset.iloc[:, -1].values"
      ],
      "metadata": {
        "id": "WY3qa64C26SL"
      },
      "execution_count": 22,
      "outputs": []
    },
    {
      "cell_type": "code",
      "source": [
        "print(X)"
      ],
      "metadata": {
        "id": "ZSvGfJJC3QG7",
        "colab": {
          "base_uri": "https://localhost:8080/"
        },
        "outputId": "ab0695df-b0c8-4fc6-b000-fed86f562e92"
      },
      "execution_count": 23,
      "outputs": [
        {
          "output_type": "stream",
          "name": "stdout",
          "text": [
            "[[1 ' iPhone 12 and iPhone 12 Mini ' 'Apple' 38.0]\n",
            " [2 ' Galaxy S20, S20+, S20 Ultra ' 'Samsung' 28.0]\n",
            " [3 ' iPhone SE 2nd generation ' 'Apple' 24.2]\n",
            " [4 ' Galaxy A21s ' 'Samsung' 19.4]\n",
            " [5 ' iPhone 12 Pro Max ' 'Apple' 16.8]\n",
            " [6 ' Galaxy A11 ' 'Samsung' 15.3]\n",
            " [7 ' Redmi Note 9 Pro ' 'Xiami' 15.0]]\n"
          ]
        }
      ]
    },
    {
      "cell_type": "code",
      "source": [
        "print(Y)"
      ],
      "metadata": {
        "id": "1UefRyCk3Q2z",
        "colab": {
          "base_uri": "https://localhost:8080/"
        },
        "outputId": "628d8fea-9556-4764-ef12-c65ef72ffd4d"
      },
      "execution_count": 24,
      "outputs": [
        {
          "output_type": "stream",
          "name": "stdout",
          "text": [
            "['Yes' 'Yes' 'No' 'Yes' 'No' 'Yes' 'Yes']\n"
          ]
        }
      ]
    },
    {
      "cell_type": "markdown",
      "source": [
        "Taking Care of missing data"
      ],
      "metadata": {
        "id": "piaYl1De3cZL"
      }
    },
    {
      "cell_type": "code",
      "source": [
        "from sklearn.impute import SimpleImputer\n",
        "imputer = SimpleImputer(missing_values=np.nan,strategy='mean')\n",
        "imputer.fit(X[:,:1])\n",
        "X[:,:1] = imputer.transform(X[:,:1])"
      ],
      "metadata": {
        "id": "q1ISgOu03i3F"
      },
      "execution_count": 25,
      "outputs": []
    },
    {
      "cell_type": "code",
      "source": [
        "print(X)"
      ],
      "metadata": {
        "id": "Jxd0oOw1Kypd",
        "colab": {
          "base_uri": "https://localhost:8080/"
        },
        "outputId": "e70c5eb3-7646-443b-d766-f2e6b42ba7cd"
      },
      "execution_count": 26,
      "outputs": [
        {
          "output_type": "stream",
          "name": "stdout",
          "text": [
            "[[1.0 ' iPhone 12 and iPhone 12 Mini ' 'Apple' 38.0]\n",
            " [2.0 ' Galaxy S20, S20+, S20 Ultra ' 'Samsung' 28.0]\n",
            " [3.0 ' iPhone SE 2nd generation ' 'Apple' 24.2]\n",
            " [4.0 ' Galaxy A21s ' 'Samsung' 19.4]\n",
            " [5.0 ' iPhone 12 Pro Max ' 'Apple' 16.8]\n",
            " [6.0 ' Galaxy A11 ' 'Samsung' 15.3]\n",
            " [7.0 ' Redmi Note 9 Pro ' 'Xiami' 15.0]]\n"
          ]
        }
      ]
    },
    {
      "cell_type": "markdown",
      "source": [
        "Encoding categorical data"
      ],
      "metadata": {
        "id": "NEocMo9GLWTz"
      }
    },
    {
      "cell_type": "code",
      "source": [
        "from sklearn.preprocessing import OneHotEncoder\n",
        "from sklearn.compose import ColumnTransformer\n",
        "categorical_indices = [1, 2]\n",
        "ct = ColumnTransformer(transformers=[('encoder', OneHotEncoder(), categorical_indices)], remainder='passthrough')\n",
        "X = np.array(ct.fit_transform(X))"
      ],
      "metadata": {
        "id": "okHr0BUQ8fxC"
      },
      "execution_count": 27,
      "outputs": []
    },
    {
      "cell_type": "code",
      "source": [
        "print(X)"
      ],
      "metadata": {
        "colab": {
          "base_uri": "https://localhost:8080/"
        },
        "id": "vWYZUKoo-xK5",
        "outputId": "6d96ce5a-cd9e-42fe-a9e1-2b388cf19725"
      },
      "execution_count": 28,
      "outputs": [
        {
          "output_type": "stream",
          "name": "stdout",
          "text": [
            "[[0.0 0.0 0.0 0.0 0.0 1.0 0.0 1.0 0.0 0.0 1.0 38.0]\n",
            " [0.0 0.0 1.0 0.0 0.0 0.0 0.0 0.0 1.0 0.0 2.0 28.0]\n",
            " [0.0 0.0 0.0 0.0 0.0 0.0 1.0 1.0 0.0 0.0 3.0 24.2]\n",
            " [0.0 1.0 0.0 0.0 0.0 0.0 0.0 0.0 1.0 0.0 4.0 19.4]\n",
            " [0.0 0.0 0.0 0.0 1.0 0.0 0.0 1.0 0.0 0.0 5.0 16.8]\n",
            " [1.0 0.0 0.0 0.0 0.0 0.0 0.0 0.0 1.0 0.0 6.0 15.3]\n",
            " [0.0 0.0 0.0 1.0 0.0 0.0 0.0 0.0 0.0 1.0 7.0 15.0]]\n"
          ]
        }
      ]
    },
    {
      "cell_type": "markdown",
      "source": [
        "Splitting the dataset into the Training set and Test set"
      ],
      "metadata": {
        "id": "i4NJY2v9Lj_z"
      }
    },
    {
      "cell_type": "code",
      "source": [
        "from sklearn.model_selection import train_test_split\n",
        "X_train, X_test, Y_train, Y_test = train_test_split(X, Y, test_size=0.2, random_state=1)"
      ],
      "metadata": {
        "id": "Y8PF89wHKyu2"
      },
      "execution_count": 29,
      "outputs": []
    },
    {
      "cell_type": "code",
      "source": [
        "print(X_train)"
      ],
      "metadata": {
        "id": "fW2dA9LqMRgX",
        "colab": {
          "base_uri": "https://localhost:8080/"
        },
        "outputId": "71bdcba4-8d19-49af-cb2a-c080adf78b06"
      },
      "execution_count": 30,
      "outputs": [
        {
          "output_type": "stream",
          "name": "stdout",
          "text": [
            "[[0.0 0.0 1.0 0.0 0.0 0.0 0.0 0.0 1.0 0.0 2.0 28.0]\n",
            " [0.0 0.0 0.0 0.0 0.0 1.0 0.0 1.0 0.0 0.0 1.0 38.0]\n",
            " [0.0 0.0 0.0 0.0 1.0 0.0 0.0 1.0 0.0 0.0 5.0 16.8]\n",
            " [0.0 1.0 0.0 0.0 0.0 0.0 0.0 0.0 1.0 0.0 4.0 19.4]\n",
            " [1.0 0.0 0.0 0.0 0.0 0.0 0.0 0.0 1.0 0.0 6.0 15.3]]\n"
          ]
        }
      ]
    },
    {
      "cell_type": "code",
      "source": [
        "print(X_test)"
      ],
      "metadata": {
        "id": "lPmYsqs6MWBN",
        "colab": {
          "base_uri": "https://localhost:8080/"
        },
        "outputId": "a4f7a346-b3bf-4db8-bf36-bba0f22df7b1"
      },
      "execution_count": 31,
      "outputs": [
        {
          "output_type": "stream",
          "name": "stdout",
          "text": [
            "[[0.0 0.0 0.0 1.0 0.0 0.0 0.0 0.0 0.0 1.0 7.0 15.0]\n",
            " [0.0 0.0 0.0 0.0 0.0 0.0 1.0 1.0 0.0 0.0 3.0 24.2]]\n"
          ]
        }
      ]
    },
    {
      "cell_type": "code",
      "source": [
        "print(Y_train)"
      ],
      "metadata": {
        "id": "Mo5v5KP8McAM",
        "colab": {
          "base_uri": "https://localhost:8080/"
        },
        "outputId": "aae7d8c4-9395-4f9b-afbd-404a6ba1459d"
      },
      "execution_count": 32,
      "outputs": [
        {
          "output_type": "stream",
          "name": "stdout",
          "text": [
            "['Yes' 'Yes' 'No' 'Yes' 'Yes']\n"
          ]
        }
      ]
    },
    {
      "cell_type": "code",
      "source": [
        "print(Y_test)"
      ],
      "metadata": {
        "id": "VnADJeb6Mbue",
        "colab": {
          "base_uri": "https://localhost:8080/"
        },
        "outputId": "e52cd7ca-4438-4a48-859b-75957190b3e8"
      },
      "execution_count": 33,
      "outputs": [
        {
          "output_type": "stream",
          "name": "stdout",
          "text": [
            "['Yes' 'No']\n"
          ]
        }
      ]
    },
    {
      "cell_type": "markdown",
      "source": [
        "Feature Scaling"
      ],
      "metadata": {
        "id": "kpxPgGjKMkZr"
      }
    },
    {
      "cell_type": "code",
      "source": [
        "from sklearn.preprocessing import StandardScaler\n",
        "sc = StandardScaler()\n",
        "X_train = sc.fit_transform(X_train)\n",
        "X_test = sc.transform(X_test)"
      ],
      "metadata": {
        "id": "1gLUE1hvMnF_"
      },
      "execution_count": 34,
      "outputs": []
    },
    {
      "cell_type": "code",
      "source": [
        "print(X_train)"
      ],
      "metadata": {
        "id": "evOgLEgoNJTm",
        "colab": {
          "base_uri": "https://localhost:8080/"
        },
        "outputId": "8eae1c4a-5c8f-4987-e3e2-b9acf84b1a46"
      },
      "execution_count": 35,
      "outputs": [
        {
          "output_type": "stream",
          "name": "stdout",
          "text": [
            "[[-0.5        -0.5         2.          0.         -0.5        -0.5\n",
            "   0.         -0.81649658  0.81649658  0.         -0.86266219  0.53074305]\n",
            " [-0.5        -0.5        -0.5         0.         -0.5         2.\n",
            "   0.          1.22474487 -1.22474487  0.         -1.40182605  1.71017204]\n",
            " [-0.5        -0.5        -0.5         0.          2.         -0.5\n",
            "   0.          1.22474487 -1.22474487  0.          0.75482941 -0.79021743]\n",
            " [-0.5         2.         -0.5         0.         -0.5        -0.5\n",
            "   0.         -0.81649658  0.81649658  0.          0.21566555 -0.48356589]\n",
            " [ 2.         -0.5        -0.5         0.         -0.5        -0.5\n",
            "   0.         -0.81649658  0.81649658  0.          1.29399328 -0.96713177]]\n"
          ]
        }
      ]
    },
    {
      "cell_type": "code",
      "source": [
        "print(X_test)"
      ],
      "metadata": {
        "id": "SFVUDX7ENJL_",
        "colab": {
          "base_uri": "https://localhost:8080/"
        },
        "outputId": "8feec3aa-3098-4bfa-be47-4bd8e08d6426"
      },
      "execution_count": 36,
      "outputs": [
        {
          "output_type": "stream",
          "name": "stdout",
          "text": [
            "[[-0.5        -0.5        -0.5         1.         -0.5        -0.5\n",
            "   0.         -0.81649658 -1.22474487  1.          1.83315714 -1.00251464]\n",
            " [-0.5        -0.5        -0.5         0.         -0.5        -0.5\n",
            "   1.          1.22474487 -1.22474487  0.         -0.32349832  0.08256003]]\n"
          ]
        }
      ]
    }
  ]
}